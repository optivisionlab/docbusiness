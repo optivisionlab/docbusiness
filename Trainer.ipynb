{
 "cells": [
  {
   "cell_type": "code",
   "execution_count": null,
   "metadata": {
    "id": "31IO-X7vLMXD"
   },
   "outputs": [],
   "source": [
    "!pip install paddlepaddle-gpu==2.5.2 paddleocr==2.7.0.3 numpy==1.26.2"
   ]
  },
  {
   "cell_type": "code",
   "execution_count": null,
   "metadata": {
    "id": "mTtMX8SHSUBK"
   },
   "outputs": [],
   "source": [
    "!python3 added_code/added_loss.py"
   ]
  },
  {
   "cell_type": "markdown",
   "metadata": {},
   "source": [
    "We need to change Cross Entropy Loss into Focal Loss, pls follow this to change loss function for kie\n",
    "1. Open PaddleOCR/ppocr/losses/vqa_token_layoutlm_loss.py\n",
    "2. Find CrossEntropyLoss and change it to FocalLoss"
   ]
  },
  {
   "cell_type": "code",
   "execution_count": null,
   "metadata": {},
   "outputs": [],
   "source": [
    "!git clone https://github.com/PaddlePaddle/PaddleOCR.git"
   ]
  },
  {
   "cell_type": "code",
   "execution_count": null,
   "metadata": {
    "id": "0YanuXxrgzpr"
   },
   "outputs": [],
   "source": [
    "%cd PaddleOCR"
   ]
  },
  {
   "cell_type": "code",
   "execution_count": null,
   "metadata": {
    "id": "0zM9DbPbYO82"
   },
   "outputs": [],
   "source": [
    "!pip install -r ppstructure/kie/requirements.txt"
   ]
  },
  {
   "cell_type": "code",
   "execution_count": null,
   "metadata": {
    "id": "ygMBPlFDX3Iu"
   },
   "outputs": [],
   "source": [
    "!pip install -r requirements.txt"
   ]
  },
  {
   "cell_type": "markdown",
   "metadata": {
    "id": "M_Lcri0bg-dV"
   },
   "source": [
    "Download XFUND dataset and Pretrained Model"
   ]
  },
  {
   "cell_type": "code",
   "execution_count": null,
   "metadata": {
    "id": "7eoD5eDZZhE8"
   },
   "outputs": [],
   "source": [
    "!mkdir train_data\n",
    "%cd train_data\n",
    "!wget https://paddleocr.bj.bcebos.com/ppstructure/dataset/XFUND.tar && tar -xf XFUND.tar\n",
    "%cd .."
   ]
  },
  {
   "cell_type": "code",
   "execution_count": null,
   "metadata": {
    "id": "4uiP7ls7Z8FN"
   },
   "outputs": [],
   "source": [
    "!mkdir pretrained_model\n",
    "%cd pretrained_model\n",
    "!wget https://paddleocr.bj.bcebos.com/ppstructure/models/vi_layoutxlm/ser_vi_layoutxlm_xfund_pretrained.tar && tar -xf ser_vi_layoutxlm_xfund_pretrained.tar\n",
    "!wget https://paddleocr.bj.bcebos.com/ppstructure/models/vi_layoutxlm/re_vi_layoutxlm_xfund_pretrained.tar && tar -xf re_vi_layoutxlm_xfund_pretrained.tar\n",
    "%cd .."
   ]
  },
  {
   "cell_type": "markdown",
   "metadata": {
    "id": "zWeE-FLEhIPl"
   },
   "source": [
    "SER"
   ]
  },
  {
   "cell_type": "code",
   "execution_count": null,
   "metadata": {
    "id": "2rzfCqkjagkP"
   },
   "outputs": [],
   "source": [
    "!python3 tools/train.py -c configs/kie/vi_layoutxlm/ser_vi_layoutxlm_xfund_zh.yml"
   ]
  },
  {
   "cell_type": "markdown",
   "metadata": {
    "id": "HzDpGuABhJ6h"
   },
   "source": [
    "RE"
   ]
  },
  {
   "cell_type": "code",
   "execution_count": null,
   "metadata": {
    "id": "R7SspwsJhLmI"
   },
   "outputs": [],
   "source": [
    "!python3 tools/train.py -c configs/kie/vi_layoutxlm/re_vi_layoutxlm_xfund_zh.yml"
   ]
  }
 ],
 "metadata": {
  "accelerator": "GPU",
  "colab": {
   "authorship_tag": "ABX9TyMld+MJENK2+PLnehzgjLCJ",
   "gpuType": "T4",
   "mount_file_id": "1bmJvr343IkIinVxw9kU3MtMWqxvER3We",
   "provenance": []
  },
  "kernelspec": {
   "display_name": "Python 3",
   "name": "python3"
  },
  "language_info": {
   "name": "python"
  }
 },
 "nbformat": 4,
 "nbformat_minor": 0
}
